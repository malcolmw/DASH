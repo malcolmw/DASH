{
 "cells": [
  {
   "cell_type": "markdown",
   "id": "4fc81a1a-1862-4c68-bb39-36290b14aee9",
   "metadata": {},
   "source": [
    "# Tutorial-2"
   ]
  },
  {
   "cell_type": "markdown",
   "id": "ac1940ec-4594-498a-a6c1-fbecdc1dd7fb",
   "metadata": {},
   "source": [
    "This third exercise demonstrates how to achieve basic interoperability between SEG-Y and HDF5eis files. To begin, we need to install the `segyio` package"
   ]
  },
  {
   "cell_type": "code",
   "execution_count": null,
   "id": "1786b247-b04e-4f29-88e0-ea58015b7893",
   "metadata": {},
   "outputs": [],
   "source": [
    "!pip install segyio"
   ]
  },
  {
   "cell_type": "markdown",
   "id": "8ffb3909-cf5c-44e7-a5ee-115a68f0269f",
   "metadata": {},
   "source": [
    "Now let's import some necessary packages for this tutorial and create a directory where we can write some data files"
   ]
  },
  {
   "cell_type": "code",
   "execution_count": null,
   "id": "dba57533-4e5a-49e7-8a9a-dcef3e1a334b",
   "metadata": {},
   "outputs": [],
   "source": [
    "# Standard library imports\n",
    "import io\n",
    "import pathlib\n",
    "import tempfile\n",
    "import urllib\n",
    "\n",
    "# Third-party imports\n",
    "import hdf5eis\n",
    "import numpy as np\n",
    "import obspy.clients.fdsn\n",
    "import pandas as pd\n",
    "import segyio\n",
    "\n",
    "\n",
    "tmp_dir = tempfile.TemporaryDirectory()\n",
    "OUTPUT_DIR = pathlib.Path(tmp_dir.name)\n",
    "# OUTPUT_DIR.mkdir(exist_ok=True, parents/=True)"
   ]
  },
  {
   "cell_type": "markdown",
   "id": "2116a08c-4c86-4f17-a638-e675f29a4dc8",
   "metadata": {},
   "source": [
    "Download a few SEG-Y example files from https://pubs.usgs.gov/ds/652/segy. This may take a few minutes to complete."
   ]
  },
  {
   "cell_type": "code",
   "execution_count": null,
   "id": "4b01e9a4-02bd-4b6e-b1d1-acc74613e143",
   "metadata": {},
   "outputs": [],
   "source": [
    "segy_dir = OUTPUT_DIR.joinpath('segy')\n",
    "segy_dir.mkdir(exist_ok=True, parents=True)\n",
    "\n",
    "for name in ('sb6a_sgy.tra', 'sb_b10a.tra', 'sb_b10b.tra'):\n",
    "    url = f'https://pubs.usgs.gov/ds/652/segy/96fgs01/{name}'\n",
    "    path = segy_dir.joinpath(name)\n",
    "    print(f'Downloading {url} to {path}.')\n",
    "    urllib.request.urlretrieve(url, filename=path)"
   ]
  },
  {
   "cell_type": "markdown",
   "id": "013ee9e2-04d5-4ad7-9927-8f33c832cb45",
   "metadata": {},
   "source": [
    "Define a few functions to extract metadata and trace data from SEG-Y files."
   ]
  },
  {
   "cell_type": "code",
   "execution_count": null,
   "id": "a9865ed6-c96c-4bc7-9b27-0a7e3ea03070",
   "metadata": {},
   "outputs": [],
   "source": [
    "def extract_header(path):\n",
    "    with segyio.open(path, strict=False, ignore_geometry=True) as in_file:\n",
    "        header = pd.DataFrame([\n",
    "            {\n",
    "                str(field): in_file.header[iheader][field]\n",
    "                for field in segyio.TraceField.enums()\n",
    "                if field in in_file.header[iheader]\n",
    "            }\n",
    "            for iheader in range(len(in_file.header))\n",
    "        ])\n",
    "    return header\n",
    "\n",
    "def extract_binary_header(path):\n",
    "    with segyio.open(path, strict=False, ignore_geometry=True) as in_file:\n",
    "        header = pd.DataFrame([\n",
    "            {\n",
    "                str(field): in_file.bin[field]\n",
    "                for field in segyio.BinField.enums()\n",
    "                if field in in_file.bin\n",
    "            }\n",
    "        ])\n",
    "    return header\n",
    "\n",
    "def extract_trace_data(path):\n",
    "    with segyio.open(path, strict=False, ignore_geometry=True) as in_file:\n",
    "        trace_data = np.stack([\n",
    "            in_file.trace[itrace] for itrace in range(len(in_file.trace))\n",
    "        ])\n",
    "    return trace_data"
   ]
  },
  {
   "cell_type": "markdown",
   "id": "4c2349b8-dcb0-47c1-af8a-e887bff7a675",
   "metadata": {},
   "source": [
    "Extract data for a sample SEG-Y file."
   ]
  },
  {
   "cell_type": "code",
   "execution_count": null,
   "id": "f425fc9c-dcf5-4f87-b78b-f78b1c8d7271",
   "metadata": {},
   "outputs": [],
   "source": [
    "path = list(segy_dir.iterdir())[0]\n",
    "\n",
    "header = extract_header(path)\n",
    "binary_header = extract_binary_header(path)\n",
    "trace_data = extract_trace_data(path)"
   ]
  },
  {
   "cell_type": "markdown",
   "id": "ac35e940-bc50-4fc8-9f76-9907af4354c6",
   "metadata": {},
   "source": [
    "Display the contents of each of these."
   ]
  },
  {
   "cell_type": "code",
   "execution_count": null,
   "id": "018c334b-1e6b-4f96-ac34-5e2e3dc4409d",
   "metadata": {},
   "outputs": [],
   "source": [
    "header"
   ]
  },
  {
   "cell_type": "code",
   "execution_count": null,
   "id": "3f662056-f73a-4bfc-ba5a-5b1ed6b3380d",
   "metadata": {},
   "outputs": [],
   "source": [
    "binary_header"
   ]
  },
  {
   "cell_type": "code",
   "execution_count": null,
   "id": "e7ba8e22-f488-463a-a48c-70d443e7b0ea",
   "metadata": {},
   "outputs": [],
   "source": [
    "plt.close('all')\n",
    "fig, ax = plt.subplots()\n",
    "ax.pcolorfast(trace_data.T)\n",
    "ax.invert_yaxis()"
   ]
  },
  {
   "cell_type": "markdown",
   "id": "095a02d0-1368-482a-abfe-70d80ec498db",
   "metadata": {},
   "source": [
    "Iterate over SEG-Y files and write data to HDF5eis format."
   ]
  },
  {
   "cell_type": "code",
   "execution_count": null,
   "id": "8b6ffeea-ea32-4c22-ab69-36b2e0ec227c",
   "metadata": {},
   "outputs": [],
   "source": [
    "hdf5eis_path = OUTPUT_DIR.joinpath('test.hdf5')\n",
    "with hdf5eis.File(hdf5eis_path, mode='w', overwrite=True) as out_file:\n",
    "    for path in sorted(segy_dir.glob('*.tra')):\n",
    "        tag = path.name.removesuffix('.tra')\n",
    "        print(f'Saving data from {path} under tag {tag}.')\n",
    "        out_file.metadata.add_table(extract_header(path), f'{tag}/header')\n",
    "        out_file.metadata.add_table(extract_binary_header(path), f'{tag}/binary_header')\n",
    "        out_file.metadata.add_utf8(str(path), f'{tag}/path')\n",
    "        # Convert sample interval in microseconds to sampling rate in seconds.\n",
    "        sampling_rate = 1/(np.mean(header['TRACE_SAMPLE_INTERVAL'])*1e-6)\n",
    "        out_file.timeseries.add(\n",
    "            extract_trace_data(path),\n",
    "            0,   # Set the start time to 0.\n",
    "            sampling_rate,\n",
    "            tag\n",
    "        )"
   ]
  },
  {
   "cell_type": "markdown",
   "id": "82042916-6c3a-46d9-bea7-e0e35611188b",
   "metadata": {},
   "source": [
    "Now we can easily retrieve trace and header data for a given tag."
   ]
  },
  {
   "cell_type": "code",
   "execution_count": null,
   "id": "d7d3a9d0-57e9-4d27-8959-da8ca0eaa119",
   "metadata": {},
   "outputs": [],
   "source": [
    "tag = 'sb6a_sgy'\n",
    "hdf5eis_path = OUTPUT_DIR.joinpath('test.hdf5')\n",
    "\n",
    "with hdf5eis.File(hdf5eis_path, mode='r', validate=False) as in_file:\n",
    "    # Retrieve one second of timeseries data.\n",
    "    super_gather = in_file.timeseries[\n",
    "        tag,    # We retrieve data for a single tag.\n",
    "        ...,    # Across all channels.\n",
    "        0: 1e9 # The desired time range is specified in nanoseconds.\n",
    "    ]\n",
    "    header = in_file.metadata[f'{tag}/header']"
   ]
  },
  {
   "cell_type": "code",
   "execution_count": null,
   "id": "68b92c97-448b-4bcb-a0fe-f88b23e82ad7",
   "metadata": {},
   "outputs": [],
   "source": [
    "plt.close('all')\n",
    "fig, ax = plt.subplots()\n",
    "ax.pcolorfast(super_gather[tag][0].data.T)\n",
    "ax.invert_yaxis()"
   ]
  },
  {
   "cell_type": "markdown",
   "id": "2670b1b8-4b6f-478b-a1c6-32cd5a4be316",
   "metadata": {},
   "source": [
    "And we can convert data back to SEG-Y format."
   ]
  },
  {
   "cell_type": "code",
   "execution_count": null,
   "id": "34d0e81e-5a79-4674-bdf9-5299aa114537",
   "metadata": {},
   "outputs": [],
   "source": [
    "def to_dict(row, module):\n",
    "    '''\n",
    "    Convert a header row to a dict.\n",
    "    '''\n",
    "    return dict(zip(\n",
    "        [getattr(module, field) for field in row.index],\n",
    "        row\n",
    "    ))"
   ]
  },
  {
   "cell_type": "code",
   "execution_count": null,
   "id": "7dcf0328-d929-4548-9a9c-f1ca73a455b9",
   "metadata": {},
   "outputs": [],
   "source": [
    "# Open the HDF5eis file in read mode.\n",
    "with hdf5eis.File(hdf5eis_path, mode='r', validate=False) as in_file:\n",
    "    # Loop over unique tags in data set.\n",
    "    for tag in in_file.timeseries.index['tag'].unique():\n",
    "        index = in_file.timeseries.index\n",
    "        index = index.set_index('tag')\n",
    "        index = index.loc[[tag]]\n",
    "        start_time = index['start_time'].min()\n",
    "        end_time   = index['end_time'].max()\n",
    "        # Create a new output file path.\n",
    "        path = segy_dir.joinpath(f'{tag}-new.sgy')\n",
    "        print(f'Converting tag {tag} back to SEG-Y format: {path}.')\n",
    "        # Read the data set associated with tag from HDF5eis.\n",
    "        super_gather = in_file.timeseries[tag, ..., start_time: end_time]\n",
    "        # Extract the data array\n",
    "        trace_data = super_gather[tag][0].data\n",
    "        # Get the corresponding headers\n",
    "        binary_header, _ = in_file.metadata[f'{tag}/binary_header']\n",
    "        header, _ = in_file.metadata[f'{tag}/header']\n",
    "        # Write the trace data to SEG-Y format.\n",
    "        segyio.tools.from_array2D(\n",
    "            path, \n",
    "            trace_data, \n",
    "            format=binary_header['Format']\n",
    "        )\n",
    "\n",
    "        # Update the SEG-Y headers.\n",
    "        with segyio.open(path, mode='r+', ignore_geometry=True) as out_file:\n",
    "            out_file.bin = to_dict(binary_header.iloc[0], segyio.BinField)\n",
    "            for i, header_row in header.iterrows():\n",
    "                out_file.header[i] = to_dict(header_row, segyio.TraceField)"
   ]
  }
 ],
 "metadata": {
  "kernelspec": {
   "display_name": "Python 3 (ipykernel)",
   "language": "python",
   "name": "python3"
  },
  "language_info": {
   "codemirror_mode": {
    "name": "ipython",
    "version": 3
   },
   "file_extension": ".py",
   "mimetype": "text/x-python",
   "name": "python",
   "nbconvert_exporter": "python",
   "pygments_lexer": "ipython3",
   "version": "3.9.13"
  }
 },
 "nbformat": 4,
 "nbformat_minor": 5
}
