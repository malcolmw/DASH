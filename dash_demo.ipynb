{
 "cells": [
  {
   "cell_type": "code",
   "execution_count": null,
   "id": "a19a0b38-0b24-4d08-ac1f-f767f9f668ab",
   "metadata": {},
   "outputs": [],
   "source": [
    "%matplotlib ipympl\n",
    "\n",
    "import dash\n",
    "import matplotlib.pyplot as plt\n",
    "import numpy as np\n",
    "import pandas as pd"
   ]
  },
  {
   "cell_type": "markdown",
   "id": "eef44e47-fc1a-44fb-8ab2-b0b9bc70f326",
   "metadata": {},
   "source": [
    "### dash.HDF5DAS inherits from h5py.File\n",
    "#### You can open and close a file manually"
   ]
  },
  {
   "cell_type": "code",
   "execution_count": null,
   "id": "938cad2d-e0a9-4c2b-951b-cc153c39b163",
   "metadata": {},
   "outputs": [],
   "source": [
    "f5 = dash.HDF5DAS(\"DAS/continuous_denoised.hdf5\", mode=\"r\")\n",
    "f5.close()"
   ]
  },
  {
   "cell_type": "markdown",
   "id": "114e0df1-5ed4-41d4-ba2a-b493457e3185",
   "metadata": {},
   "source": [
    "#### Or automatically close the file when done by using a context manager"
   ]
  },
  {
   "cell_type": "code",
   "execution_count": null,
   "id": "e006c1f7-3b77-463f-85df-4e4116643f43",
   "metadata": {},
   "outputs": [],
   "source": [
    "with dash.HDF5DAS(\"DAS/continuous_denoised.hdf5\", mode=\"r\") as f5:\n",
    "    pass"
   ]
  },
  {
   "cell_type": "markdown",
   "id": "d59d455e-cf16-43a6-8d66-aac5d6fee823",
   "metadata": {},
   "source": [
    "#### Use the dash.HDF5DAS.gather() method to read waveforms"
   ]
  },
  {
   "cell_type": "code",
   "execution_count": null,
   "id": "c6d9e157-2f21-40ee-9614-dee44cc567c6",
   "metadata": {},
   "outputs": [],
   "source": [
    "with dash.HDF5DAS(\"DAS/continuous_denoised.hdf5\", mode=\"r\") as f5:\n",
    "    gather = f5.gather(\n",
    "        \"2017-03-26T18:00:29.4Z\", \n",
    "        \"2017-03-26T18:00:32.5Z\"\n",
    "    )"
   ]
  },
  {
   "cell_type": "markdown",
   "id": "8cb5135f-7afc-4021-bc78-721a19c2c47e",
   "metadata": {},
   "source": [
    "#### Waveforms are returned as a dash.Gather object with helpful properties and methods\n",
    "##### Like the waveform data as a 2D NumPy array..."
   ]
  },
  {
   "cell_type": "code",
   "execution_count": null,
   "id": "a23d1b26-37c6-4695-bc00-ddce0470667b",
   "metadata": {},
   "outputs": [],
   "source": [
    "gather.data"
   ]
  },
  {
   "cell_type": "markdown",
   "id": "73e506d5-5667-40a5-8601-c1defa2814a2",
   "metadata": {},
   "source": [
    "##### Or as a pandas.DataFrame"
   ]
  },
  {
   "cell_type": "code",
   "execution_count": null,
   "id": "c2aff17a-8143-4bc9-8257-8388af5286dd",
   "metadata": {},
   "outputs": [],
   "source": [
    "gather.dataf"
   ]
  },
  {
   "cell_type": "markdown",
   "id": "53117e4e-2164-4df4-9b83-4f06d2a48e0a",
   "metadata": {},
   "source": [
    "##### Or as an obspy.Stream"
   ]
  },
  {
   "cell_type": "code",
   "execution_count": null,
   "id": "74ca3e24-98b8-45a1-9a0c-1f34922efa18",
   "metadata": {},
   "outputs": [],
   "source": [
    "gather.datas"
   ]
  },
  {
   "cell_type": "markdown",
   "id": "73210266-407b-4971-ae62-4cf99d649b83",
   "metadata": {},
   "source": [
    "##### The start and end times"
   ]
  },
  {
   "cell_type": "code",
   "execution_count": null,
   "id": "6f9b5977-bbf3-44ca-8e54-74eaad97fa67",
   "metadata": {},
   "outputs": [],
   "source": [
    "print(gather.starttime)\n",
    "print(gather.endtime)"
   ]
  },
  {
   "cell_type": "markdown",
   "id": "a9922d7e-399b-44eb-a637-7779868a7d5f",
   "metadata": {},
   "source": [
    "##### The time of each sample"
   ]
  },
  {
   "cell_type": "code",
   "execution_count": null,
   "id": "b57567df-80ee-4491-a0a6-2742e402bf28",
   "metadata": {},
   "outputs": [],
   "source": [
    "gather.times"
   ]
  },
  {
   "cell_type": "markdown",
   "id": "b1faafd9-8212-4b95-b1aa-78e133b867c0",
   "metadata": {},
   "source": [
    "##### Sampling rate, interval, and Nyquist frequency"
   ]
  },
  {
   "cell_type": "code",
   "execution_count": null,
   "id": "f1433ab9-45ec-44df-83ce-3396441fdc6e",
   "metadata": {},
   "outputs": [],
   "source": [
    "print(gather.sampling_rate)\n",
    "print(gather.sampling_interval)\n",
    "print(gather.nyquist)"
   ]
  },
  {
   "cell_type": "markdown",
   "id": "90ee97c1-5c82-4cac-b471-44b07071181c",
   "metadata": {},
   "source": [
    "##### The number of traces (x-axis) and samples (t-axis)"
   ]
  },
  {
   "cell_type": "code",
   "execution_count": null,
   "id": "83ed6213-13eb-40b1-bbfd-ed5d17cb68a8",
   "metadata": {},
   "outputs": [],
   "source": [
    "print(gather.ntraces)\n",
    "print(gather.nsamples)"
   ]
  },
  {
   "cell_type": "markdown",
   "id": "4cf4276f-c0b5-48f9-a067-ed70a4698743",
   "metadata": {},
   "source": [
    "#### The data can be easily plotted in the time domain"
   ]
  },
  {
   "cell_type": "code",
   "execution_count": null,
   "id": "3bcab45e-0001-4afa-bd8f-e7b2fa744cb9",
   "metadata": {},
   "outputs": [],
   "source": [
    "gather.plot()"
   ]
  },
  {
   "cell_type": "markdown",
   "id": "cc932000-7b31-4df9-b27a-75e4401dd5ba",
   "metadata": {},
   "source": [
    "#### Or the fk domain"
   ]
  },
  {
   "cell_type": "code",
   "execution_count": null,
   "id": "16f01ecc-b357-4588-8623-fe4d94b54b22",
   "metadata": {},
   "outputs": [],
   "source": [
    "gather.plot(domain=\"fk\")"
   ]
  },
  {
   "cell_type": "markdown",
   "id": "2e7fdf66-c7b1-438d-8be7-a71d9ece8497",
   "metadata": {},
   "source": [
    "#### And you can set the colormap to your preference"
   ]
  },
  {
   "cell_type": "code",
   "execution_count": null,
   "id": "da2c70e4-18f8-4263-bc0f-ceccfc4faedc",
   "metadata": {},
   "outputs": [],
   "source": [
    "gather.plot(cmap=plt.get_cmap(\"seismic\"))"
   ]
  },
  {
   "cell_type": "markdown",
   "id": "06f05b22-51b1-4ec1-8ee8-b112635c0e85",
   "metadata": {},
   "source": [
    "#### You can read subsets of traces from disk"
   ]
  },
  {
   "cell_type": "code",
   "execution_count": null,
   "id": "e52c30c2-c4d8-4f9e-adeb-7a28543d1315",
   "metadata": {},
   "outputs": [],
   "source": [
    "with dash.HDF5DAS(\"DAS/continuous_denoised.hdf5\", mode=\"r\") as f5:\n",
    "    gather = f5.gather(\n",
    "        \"2017-03-26T18:00:29.4Z\", \n",
    "        \"2017-03-26T18:00:32.5Z\",\n",
    "        traces=slice(None, None, 100)\n",
    "    )\n",
    "    \n",
    "gather.plot()"
   ]
  },
  {
   "cell_type": "markdown",
   "id": "675385bb-8222-4804-8d7c-654665b642d5",
   "metadata": {},
   "source": [
    "#### You can write to disk in HDF5 format"
   ]
  },
  {
   "cell_type": "code",
   "execution_count": null,
   "id": "2875c7ad-576f-4279-a9ad-3656ce74c307",
   "metadata": {},
   "outputs": [],
   "source": [
    "gather.write(\"test.hdf5\")"
   ]
  },
  {
   "cell_type": "markdown",
   "id": "7ae851c4-ece0-4807-a093-403dfc47efb5",
   "metadata": {},
   "source": [
    "#### Or in raw binary format"
   ]
  },
  {
   "cell_type": "code",
   "execution_count": null,
   "id": "69514370-9e28-45b4-8f5d-04c465b194d1",
   "metadata": {},
   "outputs": [],
   "source": [
    "gather.write_binary(\"test.bin\")"
   ]
  },
  {
   "cell_type": "markdown",
   "id": "66387ff7-dfe1-460f-94e9-74d6291594b4",
   "metadata": {},
   "source": [
    "#### And you can process the data"
   ]
  },
  {
   "cell_type": "code",
   "execution_count": null,
   "id": "f4d29601-4e76-4ff5-b23e-002d3b8b8dcd",
   "metadata": {},
   "outputs": [],
   "source": [
    "with dash.HDF5DAS(\"DAS/continuous_raw.hdf5\", mode=\"r\") as f5:\n",
    "    gather = f5.gather(\n",
    "        \"2017-03-26T18:00:29.4Z\", \n",
    "        \"2017-03-26T18:00:32.5Z\"\n",
    "    )\n",
    "    \n",
    "gather.plot()"
   ]
  },
  {
   "cell_type": "code",
   "execution_count": null,
   "id": "3708e814-d59a-46e8-b651-c81234c9caaf",
   "metadata": {},
   "outputs": [],
   "source": [
    "gather.demean()\n",
    "gather.decimate(4)\n",
    "gather.bandpass(locut=16, hicut=256)\n",
    "gather.normalize()\n",
    "FK_MASK              = dash.build_fk_slope_mask(4e-4, 1/32, F, K)\n",
    "FK_MASK             *= dash.build_fk_notch_mask(0, 128, K, NSAMPLES_TWIN)\n",
    "gather.plot()"
   ]
  },
  {
   "cell_type": "markdown",
   "id": "8a2ef7e5-7765-48d6-af3b-f486b1ace2e3",
   "metadata": {},
   "source": [
    "##### And you can trim the data"
   ]
  },
  {
   "cell_type": "code",
   "execution_count": null,
   "id": "b119db30-36e6-454d-867b-6ee0cc243f68",
   "metadata": {},
   "outputs": [],
   "source": [
    "gather.trim(starttime=\"2017-03-26T18:00:30.8Z\", endtime=\"2017-03-26T18:00:31.5Z\")\n",
    "gather.plot()"
   ]
  },
  {
   "cell_type": "code",
   "execution_count": null,
   "id": "bd77286d-6909-409f-8857-50d0f0b4c037",
   "metadata": {},
   "outputs": [],
   "source": [
    "TWIN                 = pd.to_timedelta(4, unit=\"S\")\n",
    "BUFFER               = pd.to_timedelta(0.1, unit=\"S\")\n",
    "OUTPUT_NTRACES       = 3039\n",
    "OUTPUT_SAMPLING_RATE = 1000\n",
    "\n",
    "NSAMPLES_TWIN        = int((TWIN+2*BUFFER).total_seconds()*OUTPUT_SAMPLING_RATE)\n",
    "F                    = np.fft.fftfreq(NSAMPLES_TWIN, d=1/OUTPUT_SAMPLING_RATE)\n",
    "K                    = np.fft.fftfreq(OUTPUT_NTRACES)\n",
    "FK_MASK              = dash.build_fk_slope_mask(4e-4, 1/32, F, K)\n",
    "FK_MASK             *= dash.build_fk_notch_mask(0, 128, K, NSAMPLES_TWIN)"
   ]
  },
  {
   "cell_type": "code",
   "execution_count": null,
   "id": "c1b45ac0-f315-4c92-944c-267d5e8eeeb1",
   "metadata": {},
   "outputs": [],
   "source": [
    "plt.close(\"all\")\n",
    "ax = dash.plot_fk_mask(F, K, FK_MASK)\n",
    "for i in range(0, K.shape[0], 100):\n",
    "    ax.plot(\n",
    "        F[i] + 2*np.fft.fftshift(FK_MASK[:, i]),\n",
    "        np.fft.fftshift(K),\n",
    "        linestyle=\":\",\n",
    "        linewidth=0.5,\n",
    "        color=\"w\"\n",
    "    )"
   ]
  },
  {
   "cell_type": "code",
   "execution_count": null,
   "id": "e5d7997b-910b-4a41-a8e0-dde83cb58b95",
   "metadata": {},
   "outputs": [],
   "source": [
    "gather.plot()"
   ]
  },
  {
   "cell_type": "markdown",
   "id": "acb424ac-3ed8-43ec-8c65-d4c59ae90cb5",
   "metadata": {},
   "source": [
    "#### DataFrames can be used for statistical processing\n",
    "##### e.g., computing the STA/LTA"
   ]
  },
  {
   "cell_type": "code",
   "execution_count": null,
   "id": "6ea3bc61-aa97-4e62-b67d-976c3f80eedc",
   "metadata": {},
   "outputs": [],
   "source": [
    "plt.close(\"all\")\n",
    "fig, ax = plt.subplots()\n",
    "ax.pcolorfast(\n",
    "    gather.dataf.rolling(10).var() / gather.dataf.rolling(100).var()\n",
    ")\n",
    "ax.invert_yaxis()"
   ]
  },
  {
   "cell_type": "code",
   "execution_count": null,
   "id": "7102ab8c-abcb-409c-a97b-f0ca052ab77b",
   "metadata": {},
   "outputs": [],
   "source": []
  }
 ],
 "metadata": {
  "kernelspec": {
   "display_name": "Python [conda env:py39]",
   "language": "python",
   "name": "conda-env-py39-py"
  },
  "language_info": {
   "codemirror_mode": {
    "name": "ipython",
    "version": 3
   },
   "file_extension": ".py",
   "mimetype": "text/x-python",
   "name": "python",
   "nbconvert_exporter": "python",
   "pygments_lexer": "ipython3",
   "version": "3.9.7"
  }
 },
 "nbformat": 4,
 "nbformat_minor": 5
}
