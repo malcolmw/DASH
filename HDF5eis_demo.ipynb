{
 "cells": [
  {
   "cell_type": "code",
   "execution_count": null,
   "id": "2f6e0095-0834-45d1-8a63-94aa6d627a90",
   "metadata": {},
   "outputs": [],
   "source": [
    "import hdf5eis"
   ]
  },
  {
   "cell_type": "code",
   "execution_count": null,
   "id": "d0882932-96fb-4a87-986b-5720f57dcf69",
   "metadata": {},
   "outputs": [],
   "source": [
    "# Inside the directory referenced by the `path` variable below is a\n",
    "# mandatory `waveforms` directory. Inside the `waveforms` directory\n",
    "# is a `raw` subdirectory with individual files that I created by \n",
    "# converting SEG-Y data to HDF5eis format using SEGY2HDF5.m.\n",
    "# Each subdirectory in `waveforms` corresponds to a separate tag in the\n",
    "# HDF5eis file. This is tag is the third positional argument to the\n",
    "# hdf5eis.File.gather() method, and tags can be nested\n",
    "# (e.g., 'raw', 'raw/1000Hz', 'raw/1000Hz/demeaned', etc...)\n",
    "path = \"/home/malcolmw/scratch/montney/data/hdf5\"\n",
    "\n",
    "# This function will traverse the `waveforms` subdirectory of the \n",
    "# provided `path` argument and create symbolic links to all the data\n",
    "# files it finds in `master.hdf5`. All waveforms can now be accessed\n",
    "# through this single file.\n",
    "hdf5eis.util.build_master(\"master.hdf5\", path);"
   ]
  },
  {
   "cell_type": "code",
   "execution_count": null,
   "id": "36297374-f1f4-4604-b87c-72d5ea9c40ab",
   "metadata": {},
   "outputs": [],
   "source": [
    "# This will print out the contents of the master file.\n",
    "with hdf5eis.File(\"master.hdf5\", mode=\"r\") as f5:\n",
    "    print(f5)"
   ]
  },
  {
   "cell_type": "code",
   "execution_count": null,
   "id": "f9c68b88-0632-4021-9f72-dc6eed1644bc",
   "metadata": {},
   "outputs": [],
   "source": [
    "# And this will retrieve `raw` waveforms between the specified start\n",
    "# and end times.\n",
    "starttime = \"20170408T03:21:25.421000Z\" \n",
    "endtime   = \"20170408T03:21:26.221000Z\"\n",
    "tag       = \"raw\"\n",
    "\n",
    "with hdf5eis.File(\"master.hdf5\", mode=\"r\") as f5:\n",
    "    gather = f5.gather(starttime, endtime, tag)\n",
    "    \n",
    "# Now we can do some simple processing and plotting.\n",
    "gather.demean()\n",
    "gather.bandpass(locut=8, hicut=512)\n",
    "gather.normalize()\n",
    "gather.plot();"
   ]
  },
  {
   "cell_type": "code",
   "execution_count": null,
   "id": "e803d925-dbac-48c6-bb20-699cae9f538e",
   "metadata": {},
   "outputs": [],
   "source": []
  }
 ],
 "metadata": {
  "kernelspec": {
   "display_name": "Python [conda env:py39]",
   "language": "python",
   "name": "conda-env-py39-py"
  },
  "language_info": {
   "codemirror_mode": {
    "name": "ipython",
    "version": 3
   },
   "file_extension": ".py",
   "mimetype": "text/x-python",
   "name": "python",
   "nbconvert_exporter": "python",
   "pygments_lexer": "ipython3",
   "version": "3.9.6"
  }
 },
 "nbformat": 4,
 "nbformat_minor": 5
}
